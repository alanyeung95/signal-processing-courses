{
  "cells": [
    {
      "cell_type": "code",
      "execution_count": 22,
      "metadata": {
        "id": "dxNvtX50-lmq"
      },
      "outputs": [],
      "source": [
        "import numpy as np\n",
        "import cmath\n",
        "import math\n",
        "import matplotlib.pyplot as plt"
      ]
    },
    {
      "cell_type": "markdown",
      "metadata": {
        "id": "fzDji-ue-lmw"
      },
      "source": [
        "\n",
        "--- \n",
        "# VIDEO: From the number line to the complex number plane\n",
        "---\n"
      ]
    },
    {
      "cell_type": "code",
      "execution_count": 23,
      "metadata": {
        "colab": {
          "base_uri": "https://localhost:8080/"
        },
        "id": "9WxFJewU-lmz",
        "outputId": "f81714d9-5e4d-4506-d469-946ed072bb11"
      },
      "outputs": [
        {
          "output_type": "stream",
          "name": "stdout",
          "text": [
            "(4+3j)\n",
            "Real part is 4.0 and imaginary part is 3.0.\n"
          ]
        }
      ],
      "source": [
        "## the imaginary operator\n",
        "\n",
        "# Python differs from MATLAB here:\n",
        "1j\n",
        "cmath.sqrt(-1) # note the cmath module\n",
        "\n",
        "\n",
        "## creating complex numbers\n",
        "z = 4 + 3j\n",
        "z = 4 + 3*1j\n",
        "z = 4 + 3*cmath.sqrt(-1)\n",
        "z = complex(4,3)\n",
        "print(z)\n",
        "print('Real part is ' + str(np.real(z)) + ' and imaginary part is ' + str(np.imag(z)) + '.' )\n"
      ]
    },
    {
      "cell_type": "code",
      "execution_count": 24,
      "metadata": {
        "colab": {
          "base_uri": "https://localhost:8080/",
          "height": 279
        },
        "id": "2h_4hyWn-lm0",
        "outputId": "f0fffa99-27f2-44af-9ec3-a70bd643c51e"
      },
      "outputs": [
        {
          "output_type": "display_data",
          "data": {
            "text/plain": [
              "<Figure size 432x288 with 1 Axes>"
            ],
            "image/png": "[encoded data removed]"
          },
          "metadata": {
            "needs_background": "light"
          }
        }
      ],
      "source": [
        "## plotting a complex number\n",
        "\n",
        "plt.plot( np.real(z),np.imag(z),'rs' )\n",
        "plt.xlim([-5,5])\n",
        "plt.ylim([-5,5])\n",
        "plt.plot([-5,5],[0,0],'k')\n",
        "plt.plot([0,0],[-5,5],'k')\n",
        "plt.xlabel('real axis')\n",
        "plt.ylabel('imag axis')\n",
        "\n",
        "plt.show()\n"
      ]
    },
    {
      "cell_type": "markdown",
      "metadata": {
        "id": "fInKrUGd-lm1"
      },
      "source": [
        "\n",
        "---\n",
        "# VIDEO: Addition and subtraction with complex numbers\n",
        "---\n"
      ]
    },
    {
      "cell_type": "code",
      "execution_count": 25,
      "metadata": {
        "colab": {
          "base_uri": "https://localhost:8080/"
        },
        "id": "5I_08JVE-lm1",
        "outputId": "8cda1c44-5fc3-4570-c21d-01466e4d57b9"
      },
      "outputs": [
        {
          "output_type": "stream",
          "name": "stdout",
          "text": [
            "(7+7j)\n",
            "(7+7j)\n",
            "(1+3j)\n",
            "(1+3j)\n"
          ]
        }
      ],
      "source": [
        "\n",
        "# create two complex numbers\n",
        "a = complex(4,5)\n",
        "b = 3+2j\n",
        "\n",
        "# let Python do the hard work\n",
        "z1 = a+b\n",
        "print(z1)\n",
        "\n",
        "# the \"manual\" way\n",
        "z2 = complex( np.real(a)+np.real(b) , np.imag(a)+np.imag(b) )\n",
        "print(z2)\n",
        "\n",
        "## subtraction is the same as addition...\n",
        "\n",
        "# let MATLAB do the hard work\n",
        "z3 = a-b\n",
        "print(z3)\n",
        "\n",
        "# the \"manual\" way\n",
        "z4 = complex( np.real(a)-np.real(b) , np.imag(a)-np.imag(b) )\n",
        "print(z4)\n"
      ]
    },
    {
      "cell_type": "markdown",
      "metadata": {
        "id": "cYe5Zs8u-lm2"
      },
      "source": [
        "\n",
        "---\n",
        "# Multiplication with complex numbers\n",
        "---\n"
      ]
    },
    {
      "cell_type": "code",
      "execution_count": 26,
      "metadata": {
        "colab": {
          "base_uri": "https://localhost:8080/"
        },
        "id": "crBAv-yX-lm2",
        "outputId": "e20de7f9-01cf-4358-c420-6382f88e3001"
      },
      "outputs": [
        {
          "output_type": "stream",
          "name": "stdout",
          "text": [
            "(2+23j)\n",
            "(12+10j) -- the WRONG way!\n",
            "12.0 8j 15j (-10+0j)\n",
            "(2+23j)\n",
            "(2+23j)\n"
          ]
        }
      ],
      "source": [
        "\n",
        "# create two complex numbers\n",
        "a = complex(4,5)\n",
        "b = 3+2j\n",
        "\n",
        "# let MATLAB do the hard work\n",
        "z1 = a*b\n",
        "print(z1)\n",
        "\n",
        "# the intuitive-but-WRONG way\n",
        "z2 = complex( np.real(a)*np.real(b) , np.imag(a)*np.imag(b) )\n",
        "print(str(z2)+' -- the WRONG way!')\n",
        "\n",
        "# the less-intuitive-but-CORRECT way\n",
        "ar = np.real(a)\n",
        "ai = np.imag(a)\n",
        "br = np.real(b)\n",
        "bi = np.imag(b)\n",
        "\n",
        "z3 = (ar + 1j*ai) * (br + 1j*bi)\n",
        "z4 = (ar*br) + (ar*(1j*bi)) + ((1j*ai)*br) + ((1j*ai)*(1j*bi))\n",
        "\n",
        "print(\"{} {} {} {}\".format((ar*br), (ar*(1j*bi)), ((1j*ai)*br), ((1j*ai)*(1j*bi)))) # -1 (5*2)\n",
        "\n",
        "print(z3)\n",
        "print(z4)"
      ]
    },
    {
      "cell_type": "markdown",
      "metadata": {
        "id": "P_A8FPZi-lm3"
      },
      "source": [
        "\n",
        "---\n",
        "# VIDEO: The complex conjugate\n",
        "---\n"
      ]
    },
    {
      "cell_type": "code",
      "execution_count": 27,
      "metadata": {
        "colab": {
          "base_uri": "https://localhost:8080/"
        },
        "id": "GQ3rB7kQ-lm3",
        "outputId": "8a5a4cc6-15e6-4e97-b512-dbadc4c18bdf"
      },
      "outputs": [
        {
          "output_type": "stream",
          "name": "stdout",
          "text": [
            "(4+5j)\n",
            "(4+5j)\n",
            "(41+0j)=41.0=41.0\n"
          ]
        }
      ],
      "source": [
        "# create a complex number\n",
        "\n",
        "a = complex(4,-5)\n",
        "\n",
        "# let Python do the hard work\n",
        "ac1 = np.conj(a)\n",
        "print(ac1)\n",
        "\n",
        "# the \"manual\" way\n",
        "ac2 = complex( np.real(a) , -np.imag(a) )\n",
        "print(ac2)\n",
        "\n",
        "\n",
        "## magnitude squared of a complex number\n",
        "amag1 = a*np.conj(a) # note that Python keeps this as type==complex, although the imaginary part is zero\n",
        "amag2 = np.real(a)**2 + np.imag(a)**2\n",
        "amag3 = np.abs(a)**2\n",
        "\n",
        "print( str(amag1)+'='+str(amag2)+'='+str(amag3) )\n"
      ]
    },
    {
      "cell_type": "markdown",
      "metadata": {
        "id": "QLxIGeQ1-lm4"
      },
      "source": [
        "\n",
        "---\n",
        "# VIDEO: Division with complex numbers\n",
        "---\n"
      ]
    },
    {
      "cell_type": "code",
      "execution_count": 28,
      "metadata": {
        "colab": {
          "base_uri": "https://localhost:8080/"
        },
        "id": "qB7hiS9m-lm4",
        "outputId": "8f81acfb-de41-4109-c448-ea336226faa1"
      },
      "outputs": [
        {
          "output_type": "stream",
          "name": "stdout",
          "text": [
            "(-0.10619469026548672-0.5929203539823009j)\n",
            "(-0.10619469026548672-0.5929203539823009j)\n"
          ]
        }
      ],
      "source": [
        "# create two complex numbers\n",
        "a = complex(4,-5)\n",
        "b = complex(7,8)\n",
        "\n",
        "# let Python do the hard work\n",
        "adb1 = a/b\n",
        "\n",
        "# the \"manual\" way\n",
        "adb2 = (a*np.conj(b)) / (b*np.conj(b))\n",
        "\n",
        "print(adb1)\n",
        "print(adb2)"
      ]
    },
    {
      "cell_type": "markdown",
      "metadata": {
        "id": "Wcpp0v19-lm4"
      },
      "source": [
        "\n",
        "---\n",
        "# VIDEO: Magnitude and phase of complex numbers\n",
        "---\n"
      ]
    },
    {
      "cell_type": "code",
      "execution_count": 29,
      "metadata": {
        "colab": {
          "base_uri": "https://localhost:8080/",
          "height": 548
        },
        "id": "v7fQN7qy-lm5",
        "outputId": "f23935c9-6818-45a1-d5d6-6f26dbae59ad"
      },
      "outputs": [
        {
          "output_type": "display_data",
          "data": {
            "text/plain": [
              "<Figure size 432x288 with 1 Axes>"
            ],
            "image/png": "[encoded data removed]"
          },
          "metadata": {
            "needs_background": "light"
          }
        },
        {
          "output_type": "display_data",
          "data": {
            "text/plain": [
              "<Figure size 432x288 with 1 Axes>"
            ],
            "image/png": "[encoded data removed]"
          },
          "metadata": {
            "needs_background": "light"
          }
        }
      ],
      "source": [
        "# create a complex number\n",
        "z = 4 + 3j\n",
        "\n",
        "# plot the complex number\n",
        "plt.plot(np.real(z),np.imag(z),'ks')\n",
        "\n",
        "# make plot look nicer\n",
        "plt.xlim([-5,5])\n",
        "plt.ylim([-5,5])\n",
        "plt.plot([-5,5],[0,0],'k')\n",
        "plt.plot([0,0],[-5,5],'k')\n",
        "plt.xlabel('real axis')\n",
        "plt.ylabel('imag axis')\n",
        "plt.show()\n",
        "\n",
        "\n",
        "# magnitude of the number (distance to origin)\n",
        "magZ1 = np.sqrt( np.real(z)**2 + np.imag(z)**2 )\n",
        "magZ2 = np.abs( z )\n",
        "\n",
        "# angle of the line relative to positive real axis\n",
        "angZ1 = math.atan2( np.imag(z),np.real(z) )\n",
        "angZ2 = np.angle( z )\n",
        "\n",
        "# draw a line using polar notation\n",
        "plt.polar([0,angZ1],[0,magZ1],'r')\n",
        "\n",
        "plt.show()"
      ]
    }
  ],
  "metadata": {
    "kernelspec": {
      "display_name": "Python 3",
      "language": "python",
      "name": "python3"
    },
    "language_info": {
      "codemirror_mode": {
        "name": "ipython",
        "version": 3
      },
      "file_extension": ".py",
      "mimetype": "text/x-python",
      "name": "python",
      "nbconvert_exporter": "python",
      "pygments_lexer": "ipython3",
      "version": "3.6.6"
    },
    "colab": {
      "provenance": []
    }
  },
  "nbformat": 4,
  "nbformat_minor": 0
}